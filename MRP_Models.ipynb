{
 "cells": [
  {
   "cell_type": "code",
   "execution_count": 6,
   "metadata": {},
   "outputs": [],
   "source": [
    "from datetime import date, timedelta\n",
    "import pandas as pd\n",
    "import numpy as np\n",
    "from sklearn.metrics import mean_squared_error\n",
    "from keras.models import Sequential\n",
    "from keras.layers.core import Dense, Dropout, Activation\n",
    "from keras.layers import LSTM\n",
    "from keras import callbacks\n",
    "from keras.callbacks import ModelCheckpoint"
   ]
  },
  {
   "cell_type": "code",
   "execution_count": 7,
   "metadata": {},
   "outputs": [],
   "source": [
    "import pandas as pd\n",
    "       \n",
    "dtypes = {'store_nbr': np.dtype('int64'),\n",
    "          'item_nbr': np.dtype('int64'),\n",
    "          'unit_sales': np.dtype('float64'),\n",
    "          'onpromotion': np.dtype('O')}\n",
    "\n",
    "train = pd.read_csv('C:/Users/smr99353/Desktop/Asma_Ryerson/MRP/favorita-grocery-sales-forecasting/input/trainCombine/combined_csv.csv', dtype=dtypes)\n",
    "test = pd.read_csv('C:/Users/smr99353/Desktop/Asma_Ryerson/MRP/favorita-grocery-sales-forecasting/input/test.csv', dtype=dtypes)\n",
    "stores = pd.read_csv('C:/Users/smr99353/Desktop/Asma_Ryerson/MRP/favorita-grocery-sales-forecasting/input/stores.csv')\n",
    "items = pd.read_csv('C:/Users/smr99353/Desktop/Asma_Ryerson/MRP/favorita-grocery-sales-forecasting/input/items.csv')\n",
    "trans = pd.read_csv('C:/Users/smr99353/Desktop/Asma_Ryerson/MRP/favorita-grocery-sales-forecasting/input/transactions.csv')\n",
    "oil = pd.read_csv('C:/Users/smr99353/Desktop/Asma_Ryerson/MRP/favorita-grocery-sales-forecasting/input/oil.csv') \n",
    "holidays = pd.read_csv('C:/Users/smr99353/Desktop/Asma_Ryerson/MRP/favorita-grocery-sales-forecasting/input/holidays_events.csv')"
   ]
  },
  {
   "cell_type": "code",
   "execution_count": 9,
   "metadata": {},
   "outputs": [
    {
     "name": "stdout",
     "output_type": "stream",
     "text": [
      "Shape :  (23808261, 6)\n"
     ]
    }
   ],
   "source": [
    "print('Shape : ', train.shape)"
   ]
  },
  {
   "cell_type": "code",
   "execution_count": 10,
   "metadata": {},
   "outputs": [
    {
     "name": "stdout",
     "output_type": "stream",
     "text": [
      "Shape :  (3370464, 5)\n"
     ]
    },
    {
     "data": {
      "text/html": [
       "<div>\n",
       "<style scoped>\n",
       "    .dataframe tbody tr th:only-of-type {\n",
       "        vertical-align: middle;\n",
       "    }\n",
       "\n",
       "    .dataframe tbody tr th {\n",
       "        vertical-align: top;\n",
       "    }\n",
       "\n",
       "    .dataframe thead th {\n",
       "        text-align: right;\n",
       "    }\n",
       "</style>\n",
       "<table border=\"1\" class=\"dataframe\">\n",
       "  <thead>\n",
       "    <tr style=\"text-align: right;\">\n",
       "      <th></th>\n",
       "      <th>id</th>\n",
       "      <th>date</th>\n",
       "      <th>store_nbr</th>\n",
       "      <th>item_nbr</th>\n",
       "      <th>onpromotion</th>\n",
       "    </tr>\n",
       "  </thead>\n",
       "  <tbody>\n",
       "    <tr>\n",
       "      <th>0</th>\n",
       "      <td>125497040</td>\n",
       "      <td>2017-08-16</td>\n",
       "      <td>1</td>\n",
       "      <td>96995</td>\n",
       "      <td>False</td>\n",
       "    </tr>\n",
       "    <tr>\n",
       "      <th>1</th>\n",
       "      <td>125497041</td>\n",
       "      <td>2017-08-16</td>\n",
       "      <td>1</td>\n",
       "      <td>99197</td>\n",
       "      <td>False</td>\n",
       "    </tr>\n",
       "    <tr>\n",
       "      <th>2</th>\n",
       "      <td>125497042</td>\n",
       "      <td>2017-08-16</td>\n",
       "      <td>1</td>\n",
       "      <td>103501</td>\n",
       "      <td>False</td>\n",
       "    </tr>\n",
       "    <tr>\n",
       "      <th>3</th>\n",
       "      <td>125497043</td>\n",
       "      <td>2017-08-16</td>\n",
       "      <td>1</td>\n",
       "      <td>103520</td>\n",
       "      <td>False</td>\n",
       "    </tr>\n",
       "    <tr>\n",
       "      <th>4</th>\n",
       "      <td>125497044</td>\n",
       "      <td>2017-08-16</td>\n",
       "      <td>1</td>\n",
       "      <td>103665</td>\n",
       "      <td>False</td>\n",
       "    </tr>\n",
       "    <tr>\n",
       "      <th>5</th>\n",
       "      <td>125497045</td>\n",
       "      <td>2017-08-16</td>\n",
       "      <td>1</td>\n",
       "      <td>105574</td>\n",
       "      <td>False</td>\n",
       "    </tr>\n",
       "    <tr>\n",
       "      <th>6</th>\n",
       "      <td>125497046</td>\n",
       "      <td>2017-08-16</td>\n",
       "      <td>1</td>\n",
       "      <td>105575</td>\n",
       "      <td>False</td>\n",
       "    </tr>\n",
       "    <tr>\n",
       "      <th>7</th>\n",
       "      <td>125497047</td>\n",
       "      <td>2017-08-16</td>\n",
       "      <td>1</td>\n",
       "      <td>105576</td>\n",
       "      <td>False</td>\n",
       "    </tr>\n",
       "    <tr>\n",
       "      <th>8</th>\n",
       "      <td>125497048</td>\n",
       "      <td>2017-08-16</td>\n",
       "      <td>1</td>\n",
       "      <td>105577</td>\n",
       "      <td>False</td>\n",
       "    </tr>\n",
       "    <tr>\n",
       "      <th>9</th>\n",
       "      <td>125497049</td>\n",
       "      <td>2017-08-16</td>\n",
       "      <td>1</td>\n",
       "      <td>105693</td>\n",
       "      <td>False</td>\n",
       "    </tr>\n",
       "  </tbody>\n",
       "</table>\n",
       "</div>"
      ],
      "text/plain": [
       "          id        date  store_nbr  item_nbr onpromotion\n",
       "0  125497040  2017-08-16          1     96995       False\n",
       "1  125497041  2017-08-16          1     99197       False\n",
       "2  125497042  2017-08-16          1    103501       False\n",
       "3  125497043  2017-08-16          1    103520       False\n",
       "4  125497044  2017-08-16          1    103665       False\n",
       "5  125497045  2017-08-16          1    105574       False\n",
       "6  125497046  2017-08-16          1    105575       False\n",
       "7  125497047  2017-08-16          1    105576       False\n",
       "8  125497048  2017-08-16          1    105577       False\n",
       "9  125497049  2017-08-16          1    105693       False"
      ]
     },
     "execution_count": 10,
     "metadata": {},
     "output_type": "execute_result"
    }
   ],
   "source": [
    "print('Shape : ', test.shape)\n",
    "test.head(10)"
   ]
  },
  {
   "cell_type": "code",
   "execution_count": 13,
   "metadata": {},
   "outputs": [],
   "source": [
    "df_test = test"
   ]
  },
  {
   "cell_type": "code",
   "execution_count": 14,
   "metadata": {},
   "outputs": [
    {
     "data": {
      "text/plain": [
       "0   2017-01-01\n",
       "1   2017-01-01\n",
       "2   2017-01-01\n",
       "3   2017-01-01\n",
       "4   2017-01-01\n",
       "Name: date, dtype: datetime64[ns]"
      ]
     },
     "execution_count": 14,
     "metadata": {},
     "output_type": "execute_result"
    }
   ],
   "source": [
    "train['date'] = train['date'].astype('datetime64[ns]')\n",
    "dtrain['date'].head()"
   ]
  },
  {
   "cell_type": "code",
   "execution_count": 15,
   "metadata": {},
   "outputs": [],
   "source": [
    "data2017Com = train.loc[train.date>=pd.datetime(2017,1,1)]"
   ]
  },
  {
   "cell_type": "code",
   "execution_count": 16,
   "metadata": {},
   "outputs": [],
   "source": [
    "data2017train = data2017Com.set_index(\n",
    "    [\"store_nbr\", \"item_nbr\", \"date\"])[[\"onpromotion\"]].unstack(\n",
    "        level=-1).fillna(False)\n",
    "data2017train.columns = data2017train.columns.get_level_values(1)\n",
    "data2017test = df_test[[\"onpromotion\"]].unstack(level=-1).fillna(False)\n",
    "data2017test = data2017test.reindex(data2017train.index).fillna(False)\n",
    "data2017 = pd.concat([data2017train, data2017test], axis=1)\n",
    "del data2017test, data2017train"
   ]
  },
  {
   "cell_type": "code",
   "execution_count": 19,
   "metadata": {},
   "outputs": [],
   "source": [
    "data2017Com = data2017Com.set_index(\n",
    "    [\"store_nbr\", \"item_nbr\", \"date\"])[[\"unit_sales\"]].unstack(\n",
    "        level=-1).fillna(0)\n",
    "data2017Com.columns = data2017Com.columns.get_level_values(1)\n",
    "items = items.reindex(data2017Com.index.get_level_values(1))"
   ]
  },
  {
   "cell_type": "code",
   "execution_count": 1,
   "metadata": {},
   "outputs": [],
   "source": [
    "def get_timespan(df, dt, minus, periods, freq='D'):\n",
    "    return df[pd.date_range(dt - timedelta(days=minus), periods=periods, freq=freq)]\n",
    "\n",
    "def prepare_dataset(com_2017, istrain=True):\n",
    "    X = pd.DataFrame({\n",
    "        \"day_1_2017\": get_timespan(data2017Com, com_2017, 1, 1).values.ravel(),\n",
    "        \"mean_3_2017\": get_timespan(data2017Com, com_2017, 3, 3).mean(axis=1).values,\n",
    "        \"mean_7_2017\": get_timespan(data2017Com, com_2017, 7, 7).mean(axis=1).values\n",
    "    })\n",
    "    if istrain:\n",
    "        y = data2017Com[\n",
    "            pd.date_range(com_2017, periods=16)\n",
    "        ].values\n",
    "        return X, y\n",
    "    return X"
   ]
  },
  {
   "cell_type": "code",
   "execution_count": 21,
   "metadata": {},
   "outputs": [],
   "source": [
    "com_2017 = date(2017, 7, 1)\n",
    "X_l, y_l = [], []\n",
    "for i in range(1):\n",
    "    delta = timedelta(days=7 * i)\n",
    "    X_tmp, y_tmp = prepare_dataset(\n",
    "        com_2017 + delta\n",
    "    )\n",
    "    X_l.append(X_tmp)\n",
    "    y_l.append(y_tmp)"
   ]
  },
  {
   "cell_type": "code",
   "execution_count": 22,
   "metadata": {},
   "outputs": [],
   "source": [
    "X_train = pd.concat(X_l, axis=0)\n",
    "y_train = np.concatenate(y_l, axis=0)"
   ]
  },
  {
   "cell_type": "code",
   "execution_count": 23,
   "metadata": {},
   "outputs": [],
   "source": [
    "X_val, y_val = prepare_dataset(date(2017, 7, 1))\n",
    "X_test = prepare_dataset(date(2017, 8, 16), istrain=False)\n",
    "\n",
    "stores_items = pd.DataFrame(index=data2017Com.index)\n",
    "test_ids = df_test[['id']]\n",
    "\n",
    "items = items.reindex( stores_items.index.get_level_values(1) )"
   ]
  },
  {
   "cell_type": "code",
   "execution_count": 24,
   "metadata": {},
   "outputs": [
    {
     "data": {
      "text/html": [
       "<div>\n",
       "<style scoped>\n",
       "    .dataframe tbody tr th:only-of-type {\n",
       "        vertical-align: middle;\n",
       "    }\n",
       "\n",
       "    .dataframe tbody tr th {\n",
       "        vertical-align: top;\n",
       "    }\n",
       "\n",
       "    .dataframe thead th {\n",
       "        text-align: right;\n",
       "    }\n",
       "</style>\n",
       "<table border=\"1\" class=\"dataframe\">\n",
       "  <thead>\n",
       "    <tr style=\"text-align: right;\">\n",
       "      <th></th>\n",
       "      <th>day_1_2017</th>\n",
       "      <th>mean_3_2017</th>\n",
       "      <th>mean_7_2017</th>\n",
       "    </tr>\n",
       "  </thead>\n",
       "  <tbody>\n",
       "    <tr>\n",
       "      <th>153334</th>\n",
       "      <td>0.0</td>\n",
       "      <td>4.000000</td>\n",
       "      <td>2.285714</td>\n",
       "    </tr>\n",
       "    <tr>\n",
       "      <th>131020</th>\n",
       "      <td>0.0</td>\n",
       "      <td>0.000000</td>\n",
       "      <td>0.000000</td>\n",
       "    </tr>\n",
       "    <tr>\n",
       "      <th>115184</th>\n",
       "      <td>2.0</td>\n",
       "      <td>1.333333</td>\n",
       "      <td>2.428571</td>\n",
       "    </tr>\n",
       "    <tr>\n",
       "      <th>143056</th>\n",
       "      <td>22.0</td>\n",
       "      <td>28.666667</td>\n",
       "      <td>30.142857</td>\n",
       "    </tr>\n",
       "    <tr>\n",
       "      <th>143477</th>\n",
       "      <td>5.0</td>\n",
       "      <td>4.666667</td>\n",
       "      <td>2.428571</td>\n",
       "    </tr>\n",
       "    <tr>\n",
       "      <th>133442</th>\n",
       "      <td>1.0</td>\n",
       "      <td>0.666667</td>\n",
       "      <td>0.571429</td>\n",
       "    </tr>\n",
       "    <tr>\n",
       "      <th>110625</th>\n",
       "      <td>2.0</td>\n",
       "      <td>1.333333</td>\n",
       "      <td>1.428571</td>\n",
       "    </tr>\n",
       "    <tr>\n",
       "      <th>18813</th>\n",
       "      <td>0.0</td>\n",
       "      <td>0.666667</td>\n",
       "      <td>0.857143</td>\n",
       "    </tr>\n",
       "    <tr>\n",
       "      <th>105558</th>\n",
       "      <td>1.0</td>\n",
       "      <td>1.333333</td>\n",
       "      <td>0.571429</td>\n",
       "    </tr>\n",
       "    <tr>\n",
       "      <th>25922</th>\n",
       "      <td>5.0</td>\n",
       "      <td>4.000000</td>\n",
       "      <td>4.142857</td>\n",
       "    </tr>\n",
       "  </tbody>\n",
       "</table>\n",
       "</div>"
      ],
      "text/plain": [
       "        day_1_2017  mean_3_2017  mean_7_2017\n",
       "153334         0.0     4.000000     2.285714\n",
       "131020         0.0     0.000000     0.000000\n",
       "115184         2.0     1.333333     2.428571\n",
       "143056        22.0    28.666667    30.142857\n",
       "143477         5.0     4.666667     2.428571\n",
       "133442         1.0     0.666667     0.571429\n",
       "110625         2.0     1.333333     1.428571\n",
       "18813          0.0     0.666667     0.857143\n",
       "105558         1.0     1.333333     0.571429\n",
       "25922          5.0     4.000000     4.142857"
      ]
     },
     "execution_count": 24,
     "metadata": {},
     "output_type": "execute_result"
    }
   ],
   "source": [
    "X_train.sample(10)"
   ]
  },
  {
   "cell_type": "code",
   "execution_count": 25,
   "metadata": {},
   "outputs": [],
   "source": [
    "X_train = X_train.as_matrix()\n",
    "X_test = X_test.as_matrix()\n",
    "X_val = X_val.as_matrix()\n",
    "X_train = X_train.reshape((X_train.shape[0], 1, X_train.shape[1]))\n",
    "X_test = X_test.reshape((X_test.shape[0], 1, X_test.shape[1]))\n",
    "X_val = X_val.reshape((X_val.shape[0], 1, X_val.shape[1]))"
   ]
  },
  {
   "cell_type": "code",
   "execution_count": 26,
   "metadata": {},
   "outputs": [],
   "source": [
    "from keras import backend\n",
    "def rmse(y_true, y_pred):\n",
    "    return backend.sqrt(backend.mean(backend.square(y_pred - y_true), axis=-1))"
   ]
  },
  {
   "cell_type": "markdown",
   "metadata": {},
   "source": [
    "## LSTM"
   ]
  },
  {
   "cell_type": "code",
   "execution_count": 32,
   "metadata": {},
   "outputs": [
    {
     "name": "stdout",
     "output_type": "stream",
     "text": [
      "_________________________________________________________________\n",
      "Layer (type)                 Output Shape              Param #   \n",
      "=================================================================\n",
      "lstm_7 (LSTM)                (None, 32)                4608      \n",
      "_________________________________________________________________\n",
      "dropout_13 (Dropout)         (None, 32)                0         \n",
      "_________________________________________________________________\n",
      "dense_13 (Dense)             (None, 32)                1056      \n",
      "_________________________________________________________________\n",
      "dropout_14 (Dropout)         (None, 32)                0         \n",
      "_________________________________________________________________\n",
      "dense_14 (Dense)             (None, 1)                 33        \n",
      "=================================================================\n",
      "Total params: 5,697\n",
      "Trainable params: 5,697\n",
      "Non-trainable params: 0\n",
      "_________________________________________________________________\n"
     ]
    }
   ],
   "source": [
    "model = Sequential()\n",
    "model.add(LSTM(32, input_shape=(X_train.shape[1],X_train.shape[2])))\n",
    "model.add(Dropout(.1))\n",
    "model.add(Dense(32))\n",
    "model.add(Dropout(.2))\n",
    "model.add(Dense(1))\n",
    "model.compile(loss = 'mse', optimizer='adam', metrics=[rmse,'mse'])\n",
    "\n",
    "N_EPOCHS = 5\n",
    "model.summary()"
   ]
  },
  {
   "cell_type": "code",
   "execution_count": 33,
   "metadata": {},
   "outputs": [
    {
     "name": "stdout",
     "output_type": "stream",
     "text": [
      "==================================================\n",
      "Step 1\n",
      "==================================================\n",
      "Train on 167515 samples, validate on 167515 samples\n",
      "Epoch 1/5\n",
      " - 3s - loss: 318.3915 - rmse: 4.4731 - mean_squared_error: 318.3915 - val_loss: 246.6257 - val_rmse: 3.6289 - val_mean_squared_error: 246.6257\n",
      "Epoch 2/5\n",
      " - 2s - loss: 229.8655 - rmse: 3.6744 - mean_squared_error: 229.8655 - val_loss: 210.4885 - val_rmse: 3.5388 - val_mean_squared_error: 210.4885\n",
      "Epoch 3/5\n",
      " - 2s - loss: 212.6588 - rmse: 3.7232 - mean_squared_error: 212.6588 - val_loss: 204.8268 - val_rmse: 3.4308 - val_mean_squared_error: 204.8268\n",
      "Epoch 4/5\n",
      " - 2s - loss: 205.2910 - rmse: 3.7674 - mean_squared_error: 205.2910 - val_loss: 192.2461 - val_rmse: 3.4668 - val_mean_squared_error: 192.2461\n",
      "Epoch 5/5\n",
      " - 2s - loss: 201.7335 - rmse: 3.8056 - mean_squared_error: 201.7335 - val_loss: 191.6744 - val_rmse: 3.3816 - val_mean_squared_error: 191.6744\n",
      "==================================================\n",
      "Step 2\n",
      "==================================================\n",
      "Train on 167515 samples, validate on 167515 samples\n",
      "Epoch 1/5\n",
      " - 2s - loss: 203.7323 - rmse: 4.1874 - mean_squared_error: 203.7323 - val_loss: 194.1133 - val_rmse: 3.9851 - val_mean_squared_error: 194.1133\n",
      "Epoch 2/5\n",
      " - 2s - loss: 199.7113 - rmse: 4.2216 - mean_squared_error: 199.7113 - val_loss: 193.3836 - val_rmse: 3.8085 - val_mean_squared_error: 193.3836\n",
      "Epoch 3/5\n",
      " - 2s - loss: 198.9206 - rmse: 4.2252 - mean_squared_error: 198.9206 - val_loss: 185.4727 - val_rmse: 3.9409 - val_mean_squared_error: 185.4727\n",
      "Epoch 4/5\n",
      " - 2s - loss: 200.3090 - rmse: 4.2779 - mean_squared_error: 200.3090 - val_loss: 187.8044 - val_rmse: 3.8450 - val_mean_squared_error: 187.8044\n",
      "Epoch 5/5\n",
      " - 2s - loss: 197.0192 - rmse: 4.2720 - mean_squared_error: 197.0192 - val_loss: 189.6929 - val_rmse: 3.8354 - val_mean_squared_error: 189.6929\n",
      "==================================================\n",
      "Step 3\n",
      "==================================================\n",
      "Train on 167515 samples, validate on 167515 samples\n",
      "Epoch 1/5\n",
      " - 2s - loss: 96.9694 - rmse: 3.3545 - mean_squared_error: 96.9694 - val_loss: 89.2144 - val_rmse: 2.9374 - val_mean_squared_error: 89.2144\n",
      "Epoch 2/5\n",
      " - 2s - loss: 97.2257 - rmse: 3.3070 - mean_squared_error: 97.2257 - val_loss: 85.9601 - val_rmse: 2.9817 - val_mean_squared_error: 85.9601\n",
      "Epoch 3/5\n",
      " - 2s - loss: 95.5807 - rmse: 3.2568 - mean_squared_error: 95.5807 - val_loss: 86.8767 - val_rmse: 2.9536 - val_mean_squared_error: 86.8767\n",
      "Epoch 4/5\n",
      " - 2s - loss: 91.9026 - rmse: 3.2277 - mean_squared_error: 91.9026 - val_loss: 90.8540 - val_rmse: 3.2313 - val_mean_squared_error: 90.8540\n",
      "Epoch 5/5\n",
      " - 2s - loss: 94.0223 - rmse: 3.2156 - mean_squared_error: 94.0223 - val_loss: 87.8525 - val_rmse: 2.9618 - val_mean_squared_error: 87.8525\n",
      "==================================================\n",
      "Step 4\n",
      "==================================================\n",
      "Train on 167515 samples, validate on 167515 samples\n",
      "Epoch 1/5\n",
      " - 2s - loss: 80.5772 - rmse: 3.0622 - mean_squared_error: 80.5772 - val_loss: 75.5130 - val_rmse: 2.8051 - val_mean_squared_error: 75.5130\n",
      "Epoch 2/5\n",
      " - 2s - loss: 82.1829 - rmse: 3.0485 - mean_squared_error: 82.1829 - val_loss: 82.0565 - val_rmse: 2.8030 - val_mean_squared_error: 82.0565\n",
      "Epoch 3/5\n",
      " - 2s - loss: 80.8017 - rmse: 3.0173 - mean_squared_error: 80.8017 - val_loss: 75.6539 - val_rmse: 2.7926 - val_mean_squared_error: 75.6539\n",
      "Epoch 4/5\n",
      " - 2s - loss: 80.9590 - rmse: 3.0067 - mean_squared_error: 80.9590 - val_loss: 76.6923 - val_rmse: 2.7827 - val_mean_squared_error: 76.6923\n",
      "Epoch 5/5\n",
      " - 2s - loss: 82.6450 - rmse: 3.0156 - mean_squared_error: 82.6450 - val_loss: 79.6378 - val_rmse: 2.9186 - val_mean_squared_error: 79.6378\n",
      "==================================================\n",
      "Step 5\n",
      "==================================================\n",
      "Train on 167515 samples, validate on 167515 samples\n",
      "Epoch 1/5\n",
      " - 2s - loss: 103.0045 - rmse: 3.0664 - mean_squared_error: 103.0045 - val_loss: 95.8292 - val_rmse: 2.8059 - val_mean_squared_error: 95.8292\n",
      "Epoch 2/5\n",
      " - 2s - loss: 98.2936 - rmse: 3.0697 - mean_squared_error: 98.2936 - val_loss: 93.1074 - val_rmse: 2.8355 - val_mean_squared_error: 93.1074\n",
      "Epoch 3/5\n",
      " - 2s - loss: 95.5204 - rmse: 3.0569 - mean_squared_error: 95.5204 - val_loss: 93.8603 - val_rmse: 2.7443 - val_mean_squared_error: 93.8603\n",
      "Epoch 4/5\n",
      " - 2s - loss: 96.7782 - rmse: 3.0541 - mean_squared_error: 96.7782 - val_loss: 92.1760 - val_rmse: 2.9803 - val_mean_squared_error: 92.1760\n",
      "Epoch 5/5\n",
      " - 2s - loss: 99.8161 - rmse: 3.0828 - mean_squared_error: 99.8161 - val_loss: 91.1951 - val_rmse: 2.8668 - val_mean_squared_error: 91.1951\n",
      "==================================================\n",
      "Step 6\n",
      "==================================================\n",
      "Train on 167515 samples, validate on 167515 samples\n",
      "Epoch 1/5\n",
      " - 2s - loss: 395.2400 - rmse: 2.8105 - mean_squared_error: 395.2400 - val_loss: 388.6272 - val_rmse: 2.4617 - val_mean_squared_error: 388.6272\n",
      "Epoch 2/5\n",
      " - 2s - loss: 391.5633 - rmse: 2.7492 - mean_squared_error: 391.5633 - val_loss: 391.7413 - val_rmse: 2.5153 - val_mean_squared_error: 391.7413\n",
      "Epoch 3/5\n",
      " - 2s - loss: 392.0176 - rmse: 2.7340 - mean_squared_error: 392.0176 - val_loss: 389.2562 - val_rmse: 2.5633 - val_mean_squared_error: 389.2562\n",
      "Epoch 4/5\n",
      " - 2s - loss: 391.1692 - rmse: 2.7320 - mean_squared_error: 391.1692 - val_loss: 390.6455 - val_rmse: 2.5247 - val_mean_squared_error: 390.6455\n",
      "Epoch 5/5\n",
      " - 2s - loss: 391.9010 - rmse: 2.7229 - mean_squared_error: 391.9010 - val_loss: 389.1697 - val_rmse: 2.4804 - val_mean_squared_error: 389.1697\n",
      "==================================================\n",
      "Step 7\n",
      "==================================================\n",
      "Train on 167515 samples, validate on 167515 samples\n",
      "Epoch 1/5\n",
      " - 2s - loss: 284.7196 - rmse: 3.0150 - mean_squared_error: 284.7196 - val_loss: 277.8902 - val_rmse: 3.1171 - val_mean_squared_error: 277.8902\n",
      "Epoch 2/5\n",
      " - 2s - loss: 281.6853 - rmse: 3.0417 - mean_squared_error: 281.6853 - val_loss: 278.8713 - val_rmse: 2.7947 - val_mean_squared_error: 278.8713\n",
      "Epoch 3/5\n",
      " - 2s - loss: 282.6529 - rmse: 3.0401 - mean_squared_error: 282.6529 - val_loss: 278.0576 - val_rmse: 2.8404 - val_mean_squared_error: 278.0576\n",
      "Epoch 4/5\n",
      " - 2s - loss: 281.1060 - rmse: 3.0720 - mean_squared_error: 281.1060 - val_loss: 283.5801 - val_rmse: 2.9577 - val_mean_squared_error: 283.5801\n",
      "Epoch 5/5\n",
      " - 2s - loss: 286.0622 - rmse: 3.0800 - mean_squared_error: 286.0622 - val_loss: 279.2548 - val_rmse: 2.9236 - val_mean_squared_error: 279.2548\n",
      "==================================================\n",
      "Step 8\n",
      "==================================================\n",
      "Train on 167515 samples, validate on 167515 samples\n",
      "Epoch 1/5\n",
      " - 2s - loss: 470.2757 - rmse: 3.4895 - mean_squared_error: 470.2757 - val_loss: 464.7202 - val_rmse: 3.2299 - val_mean_squared_error: 464.7202\n",
      "Epoch 2/5\n",
      " - 2s - loss: 469.0822 - rmse: 3.4887 - mean_squared_error: 469.0822 - val_loss: 461.0302 - val_rmse: 3.2354 - val_mean_squared_error: 461.0302\n",
      "Epoch 3/5\n",
      " - 2s - loss: 469.0622 - rmse: 3.5063 - mean_squared_error: 469.0622 - val_loss: 468.2007 - val_rmse: 3.3691 - val_mean_squared_error: 468.2007\n",
      "Epoch 4/5\n",
      " - 2s - loss: 469.8081 - rmse: 3.5134 - mean_squared_error: 469.8081 - val_loss: 459.6025 - val_rmse: 3.2591 - val_mean_squared_error: 459.6025\n",
      "Epoch 5/5\n",
      " - 2s - loss: 465.7886 - rmse: 3.5066 - mean_squared_error: 465.7886 - val_loss: 459.9357 - val_rmse: 3.2241 - val_mean_squared_error: 459.9357\n",
      "==================================================\n",
      "Step 9\n",
      "==================================================\n",
      "Train on 167515 samples, validate on 167515 samples\n",
      "Epoch 1/5\n",
      " - 2s - loss: 399.7695 - rmse: 3.8424 - mean_squared_error: 399.7695 - val_loss: 386.5582 - val_rmse: 3.7349 - val_mean_squared_error: 386.5582\n",
      "Epoch 2/5\n",
      " - 2s - loss: 398.3810 - rmse: 3.8732 - mean_squared_error: 398.3810 - val_loss: 400.7506 - val_rmse: 3.7283 - val_mean_squared_error: 400.7506\n",
      "Epoch 3/5\n",
      " - 2s - loss: 396.1793 - rmse: 3.8886 - mean_squared_error: 396.1793 - val_loss: 389.9342 - val_rmse: 3.6374 - val_mean_squared_error: 389.9342\n",
      "Epoch 4/5\n",
      " - 2s - loss: 397.5668 - rmse: 3.9246 - mean_squared_error: 397.5668 - val_loss: 398.8631 - val_rmse: 3.6386 - val_mean_squared_error: 398.8631\n",
      "Epoch 5/5\n",
      " - 2s - loss: 395.4607 - rmse: 3.9339 - mean_squared_error: 395.4607 - val_loss: 382.9032 - val_rmse: 3.5591 - val_mean_squared_error: 382.9032\n"
     ]
    },
    {
     "name": "stdout",
     "output_type": "stream",
     "text": [
      "==================================================\n",
      "Step 10\n",
      "==================================================\n",
      "Train on 167515 samples, validate on 167515 samples\n",
      "Epoch 1/5\n",
      " - 2s - loss: 322.3388 - rmse: 3.2723 - mean_squared_error: 322.3388 - val_loss: 310.8412 - val_rmse: 2.9149 - val_mean_squared_error: 310.8412\n",
      "Epoch 2/5\n",
      " - 2s - loss: 317.1612 - rmse: 3.2631 - mean_squared_error: 317.1612 - val_loss: 309.4658 - val_rmse: 2.9144 - val_mean_squared_error: 309.4658\n",
      "Epoch 3/5\n",
      " - 2s - loss: 324.7276 - rmse: 3.2335 - mean_squared_error: 324.7276 - val_loss: 308.1897 - val_rmse: 2.9267 - val_mean_squared_error: 308.1897\n",
      "Epoch 4/5\n",
      " - 2s - loss: 313.5064 - rmse: 3.2303 - mean_squared_error: 313.5064 - val_loss: 308.3404 - val_rmse: 2.8636 - val_mean_squared_error: 308.3404\n",
      "Epoch 5/5\n",
      " - 2s - loss: 321.8588 - rmse: 3.2471 - mean_squared_error: 321.8588 - val_loss: 320.1710 - val_rmse: 2.8677 - val_mean_squared_error: 320.1710\n",
      "==================================================\n",
      "Step 11\n",
      "==================================================\n",
      "Train on 167515 samples, validate on 167515 samples\n",
      "Epoch 1/5\n",
      " - 2s - loss: 264.3344 - rmse: 3.1507 - mean_squared_error: 264.3344 - val_loss: 258.8647 - val_rmse: 2.8646 - val_mean_squared_error: 258.8647\n",
      "Epoch 2/5\n",
      " - 2s - loss: 262.8978 - rmse: 3.1265 - mean_squared_error: 262.8978 - val_loss: 258.2260 - val_rmse: 2.6686 - val_mean_squared_error: 258.2260\n",
      "Epoch 3/5\n",
      " - 2s - loss: 262.3362 - rmse: 3.1307 - mean_squared_error: 262.3362 - val_loss: 258.2456 - val_rmse: 2.8167 - val_mean_squared_error: 258.2456\n",
      "Epoch 4/5\n",
      " - 2s - loss: 264.7932 - rmse: 3.1134 - mean_squared_error: 264.7932 - val_loss: 267.8437 - val_rmse: 2.7450 - val_mean_squared_error: 267.8437\n",
      "Epoch 5/5\n",
      " - 2s - loss: 269.3487 - rmse: 3.1272 - mean_squared_error: 269.3487 - val_loss: 258.9579 - val_rmse: 2.7691 - val_mean_squared_error: 258.9579\n",
      "==================================================\n",
      "Step 12\n",
      "==================================================\n",
      "Train on 167515 samples, validate on 167515 samples\n",
      "Epoch 1/5\n",
      " - 2s - loss: 188.0400 - rmse: 3.1114 - mean_squared_error: 188.0400 - val_loss: 178.4659 - val_rmse: 3.0795 - val_mean_squared_error: 178.4659\n",
      "Epoch 2/5\n",
      " - 2s - loss: 183.3813 - rmse: 3.0838 - mean_squared_error: 183.3813 - val_loss: 177.6188 - val_rmse: 2.7276 - val_mean_squared_error: 177.6188\n",
      "Epoch 3/5\n",
      " - 2s - loss: 180.2043 - rmse: 3.0820 - mean_squared_error: 180.2043 - val_loss: 175.6609 - val_rmse: 2.7872 - val_mean_squared_error: 175.6609\n",
      "Epoch 4/5\n",
      " - 2s - loss: 182.5555 - rmse: 3.0931 - mean_squared_error: 182.5555 - val_loss: 175.6895 - val_rmse: 2.7301 - val_mean_squared_error: 175.6895\n",
      "Epoch 5/5\n",
      " - 2s - loss: 181.4385 - rmse: 3.1155 - mean_squared_error: 181.4385 - val_loss: 188.2766 - val_rmse: 2.8480 - val_mean_squared_error: 188.2766\n",
      "==================================================\n",
      "Step 13\n",
      "==================================================\n",
      "Train on 167515 samples, validate on 167515 samples\n",
      "Epoch 1/5\n",
      " - 2s - loss: 159.4375 - rmse: 2.9538 - mean_squared_error: 159.4375 - val_loss: 155.7165 - val_rmse: 2.5439 - val_mean_squared_error: 155.7165\n",
      "Epoch 2/5\n",
      " - 2s - loss: 159.4180 - rmse: 2.9022 - mean_squared_error: 159.4180 - val_loss: 153.8739 - val_rmse: 2.5959 - val_mean_squared_error: 153.8739\n",
      "Epoch 3/5\n",
      " - 2s - loss: 157.5515 - rmse: 2.8476 - mean_squared_error: 157.5515 - val_loss: 154.1111 - val_rmse: 2.6728 - val_mean_squared_error: 154.1111\n",
      "Epoch 4/5\n",
      " - 2s - loss: 158.2340 - rmse: 2.8130 - mean_squared_error: 158.2340 - val_loss: 155.2002 - val_rmse: 2.6333 - val_mean_squared_error: 155.2002\n",
      "Epoch 5/5\n",
      " - 2s - loss: 159.2438 - rmse: 2.8325 - mean_squared_error: 159.2438 - val_loss: 154.5672 - val_rmse: 2.6258 - val_mean_squared_error: 154.5672\n",
      "==================================================\n",
      "Step 14\n",
      "==================================================\n",
      "Train on 167515 samples, validate on 167515 samples\n",
      "Epoch 1/5\n",
      " - 2s - loss: 498.7595 - rmse: 3.2431 - mean_squared_error: 498.7595 - val_loss: 493.4128 - val_rmse: 2.9732 - val_mean_squared_error: 493.4128\n",
      "Epoch 2/5\n",
      " - 2s - loss: 497.8584 - rmse: 3.2419 - mean_squared_error: 497.8584 - val_loss: 492.5372 - val_rmse: 2.8821 - val_mean_squared_error: 492.5372\n",
      "Epoch 3/5\n",
      " - 2s - loss: 498.7457 - rmse: 3.2722 - mean_squared_error: 498.7457 - val_loss: 492.5790 - val_rmse: 2.8834 - val_mean_squared_error: 492.5790\n",
      "Epoch 4/5\n",
      " - 2s - loss: 498.8201 - rmse: 3.2509 - mean_squared_error: 498.8201 - val_loss: 491.9392 - val_rmse: 2.9063 - val_mean_squared_error: 491.9392\n",
      "Epoch 5/5\n",
      " - 2s - loss: 498.3164 - rmse: 3.2635 - mean_squared_error: 498.3164 - val_loss: 494.9427 - val_rmse: 2.9598 - val_mean_squared_error: 494.9427\n",
      "==================================================\n",
      "Step 15\n",
      "==================================================\n",
      "Train on 167515 samples, validate on 167515 samples\n",
      "Epoch 1/5\n",
      " - 2s - loss: 302.9535 - rmse: 3.7660 - mean_squared_error: 302.9535 - val_loss: 299.0373 - val_rmse: 3.5796 - val_mean_squared_error: 299.0373\n",
      "Epoch 2/5\n",
      " - 2s - loss: 302.3079 - rmse: 3.7689 - mean_squared_error: 302.3079 - val_loss: 291.8863 - val_rmse: 3.4773 - val_mean_squared_error: 291.8863\n",
      "Epoch 3/5\n",
      " - 2s - loss: 306.2401 - rmse: 3.7591 - mean_squared_error: 306.2401 - val_loss: 302.8539 - val_rmse: 3.6170 - val_mean_squared_error: 302.8539\n",
      "Epoch 4/5\n",
      " - 2s - loss: 301.6027 - rmse: 3.7607 - mean_squared_error: 301.6027 - val_loss: 304.4555 - val_rmse: 3.6460 - val_mean_squared_error: 304.4555\n",
      "Epoch 5/5\n",
      " - 2s - loss: 303.9680 - rmse: 3.7838 - mean_squared_error: 303.9680 - val_loss: 299.5060 - val_rmse: 3.5684 - val_mean_squared_error: 299.5060\n",
      "==================================================\n",
      "Step 16\n",
      "==================================================\n",
      "Train on 167515 samples, validate on 167515 samples\n",
      "Epoch 1/5\n",
      " - 2s - loss: 472.6256 - rmse: 4.3385 - mean_squared_error: 472.6256 - val_loss: 460.4397 - val_rmse: 4.0352 - val_mean_squared_error: 460.4397\n",
      "Epoch 2/5\n",
      " - 2s - loss: 463.7504 - rmse: 4.3393 - mean_squared_error: 463.7504 - val_loss: 452.6645 - val_rmse: 4.2648 - val_mean_squared_error: 452.6645\n",
      "Epoch 3/5\n",
      " - 2s - loss: 464.8975 - rmse: 4.3952 - mean_squared_error: 464.8975 - val_loss: 467.3436 - val_rmse: 4.1624 - val_mean_squared_error: 467.3436\n",
      "Epoch 4/5\n",
      " - 2s - loss: 469.4809 - rmse: 4.4047 - mean_squared_error: 469.4809 - val_loss: 475.7312 - val_rmse: 4.0314 - val_mean_squared_error: 475.7312\n",
      "Epoch 5/5\n",
      " - 2s - loss: 461.9594 - rmse: 4.4070 - mean_squared_error: 461.9594 - val_loss: 450.6226 - val_rmse: 4.0053 - val_mean_squared_error: 450.6226\n"
     ]
    }
   ],
   "source": [
    "N_EPOCHS = 5\n",
    "\n",
    "val_pred = []\n",
    "test_pred = []\n",
    "\n",
    "\n",
    "# wtpath = 'weights.hdf5'  # To save best epoch. But need Keras bug to be fixed first.\n",
    "sample_weights=np.array( pd.concat([items[\"perishable\"]] * 6) * 0.25 + 1 )\n",
    "for i in range(16):\n",
    "    print(\"=\" * 50)\n",
    "    print(\"Step %d\" % (i+1))\n",
    "    print(\"=\" * 50)\n",
    "    y = y_train[:, i]\n",
    "    xv = X_val\n",
    "    yv = y_val[:, i]\n",
    "    model.fit(X_train, y, batch_size = 512, epochs = N_EPOCHS, verbose=2 , validation_data=(xv,yv) ) \n",
    "    val_pred.append(model.predict(X_val))\n",
    "    test_pred.append(model.predict(X_test))\n",
    "      "
   ]
  },
  {
   "cell_type": "code",
   "execution_count": 34,
   "metadata": {},
   "outputs": [
    {
     "name": "stdout",
     "output_type": "stream",
     "text": [
      "Unweighted validation mse:  269.8975140632682\n",
      "Full validation mse:        nan\n",
      "'Public' validation mse:    nan\n",
      "'Private' validation mse:   nan\n"
     ]
    }
   ],
   "source": [
    "n_public = 5 # Number of days in public test set\n",
    "weights=pd.concat([items[\"perishable\"]]) * 0.25 + 1\n",
    "print(\"Unweighted validation mse: \", mean_squared_error(\n",
    "    y_val, np.array(val_pred).squeeze(axis=2).transpose()) )\n",
    "print(\"Full validation mse:       \", mean_squared_error(\n",
    "    y_val, np.array(val_pred).squeeze(axis=2).transpose(), sample_weight=weights) )\n",
    "print(\"'Public' validation mse:   \", mean_squared_error(\n",
    "    y_val[:,:n_public], np.array(val_pred).squeeze(axis=2).transpose()[:,:n_public], \n",
    "    sample_weight=weights) )\n",
    "print(\"'Private' validation mse:  \", mean_squared_error(\n",
    "    y_val[:,n_public:], np.array(val_pred).squeeze(axis=2).transpose()[:,n_public:], \n",
    "    sample_weight=weights) )"
   ]
  },
  {
   "cell_type": "code",
   "execution_count": 35,
   "metadata": {},
   "outputs": [],
   "source": [
    "y_test = np.array(test_pred).squeeze(axis=2).transpose()\n",
    "df_preds = pd.DataFrame(\n",
    "    y_test, index=stores_items.index,\n",
    "    columns=pd.date_range(\"2017-08-16\", periods=16)\n",
    ").stack().to_frame(\"unit_sales\")\n",
    "df_preds.index.set_names([\"store_nbr\", \"item_nbr\", \"date\"], inplace=True)\n"
   ]
  },
  {
   "cell_type": "code",
   "execution_count": 36,
   "metadata": {},
   "outputs": [
    {
     "ename": "ValueError",
     "evalue": "cannot join with no level specified and no overlapping names",
     "output_type": "error",
     "traceback": [
      "\u001b[1;31m---------------------------------------------------------------------------\u001b[0m",
      "\u001b[1;31mValueError\u001b[0m                                Traceback (most recent call last)",
      "\u001b[1;32m<ipython-input-36-3c066f02ee1d>\u001b[0m in \u001b[0;36m<module>\u001b[1;34m()\u001b[0m\n\u001b[1;32m----> 1\u001b[1;33m \u001b[0msubmission\u001b[0m \u001b[1;33m=\u001b[0m \u001b[0mtest_ids\u001b[0m\u001b[1;33m.\u001b[0m\u001b[0mjoin\u001b[0m\u001b[1;33m(\u001b[0m\u001b[0mdf_preds\u001b[0m\u001b[1;33m[\u001b[0m\u001b[1;34m\"unit_sales\"\u001b[0m\u001b[1;33m]\u001b[0m\u001b[1;33m,\u001b[0m \u001b[0mhow\u001b[0m\u001b[1;33m=\u001b[0m\u001b[1;34m\"left\"\u001b[0m\u001b[1;33m)\u001b[0m\u001b[1;33m.\u001b[0m\u001b[0mfillna\u001b[0m\u001b[1;33m(\u001b[0m\u001b[1;36m0\u001b[0m\u001b[1;33m)\u001b[0m\u001b[1;33m\u001b[0m\u001b[0m\n\u001b[0m\u001b[0;32m      2\u001b[0m \u001b[0msubmission\u001b[0m\u001b[1;33m[\u001b[0m\u001b[1;34m\"unit_sales\"\u001b[0m\u001b[1;33m]\u001b[0m \u001b[1;33m=\u001b[0m \u001b[0mnp\u001b[0m\u001b[1;33m.\u001b[0m\u001b[0mclip\u001b[0m\u001b[1;33m(\u001b[0m\u001b[0mnp\u001b[0m\u001b[1;33m.\u001b[0m\u001b[0mexpm1\u001b[0m\u001b[1;33m(\u001b[0m\u001b[0msubmission\u001b[0m\u001b[1;33m[\u001b[0m\u001b[1;34m\"unit_sales\"\u001b[0m\u001b[1;33m]\u001b[0m\u001b[1;33m)\u001b[0m\u001b[1;33m,\u001b[0m \u001b[1;36m0\u001b[0m\u001b[1;33m,\u001b[0m \u001b[1;36m1000\u001b[0m\u001b[1;33m)\u001b[0m\u001b[1;33m\u001b[0m\u001b[0m\n\u001b[0;32m      3\u001b[0m \u001b[0msubmission\u001b[0m\u001b[1;33m.\u001b[0m\u001b[0mto_csv\u001b[0m\u001b[1;33m(\u001b[0m\u001b[1;34m'lstm.csv'\u001b[0m\u001b[1;33m,\u001b[0m \u001b[0mfloat_format\u001b[0m\u001b[1;33m=\u001b[0m\u001b[1;34m'%.4f'\u001b[0m\u001b[1;33m,\u001b[0m \u001b[0mindex\u001b[0m\u001b[1;33m=\u001b[0m\u001b[1;32mNone\u001b[0m\u001b[1;33m)\u001b[0m\u001b[1;33m\u001b[0m\u001b[0m\n",
      "\u001b[1;32m~\\Anaconda3\\lib\\site-packages\\pandas\\core\\frame.py\u001b[0m in \u001b[0;36mjoin\u001b[1;34m(self, other, on, how, lsuffix, rsuffix, sort)\u001b[0m\n\u001b[0;32m   5314\u001b[0m         \u001b[1;31m# For SparseDataFrame's benefit\u001b[0m\u001b[1;33m\u001b[0m\u001b[1;33m\u001b[0m\u001b[0m\n\u001b[0;32m   5315\u001b[0m         return self._join_compat(other, on=on, how=how, lsuffix=lsuffix,\n\u001b[1;32m-> 5316\u001b[1;33m                                  rsuffix=rsuffix, sort=sort)\n\u001b[0m\u001b[0;32m   5317\u001b[0m \u001b[1;33m\u001b[0m\u001b[0m\n\u001b[0;32m   5318\u001b[0m     def _join_compat(self, other, on=None, how='left', lsuffix='', rsuffix='',\n",
      "\u001b[1;32m~\\Anaconda3\\lib\\site-packages\\pandas\\core\\frame.py\u001b[0m in \u001b[0;36m_join_compat\u001b[1;34m(self, other, on, how, lsuffix, rsuffix, sort)\u001b[0m\n\u001b[0;32m   5329\u001b[0m             return merge(self, other, left_on=on, how=how,\n\u001b[0;32m   5330\u001b[0m                          \u001b[0mleft_index\u001b[0m\u001b[1;33m=\u001b[0m\u001b[0mon\u001b[0m \u001b[1;32mis\u001b[0m \u001b[1;32mNone\u001b[0m\u001b[1;33m,\u001b[0m \u001b[0mright_index\u001b[0m\u001b[1;33m=\u001b[0m\u001b[1;32mTrue\u001b[0m\u001b[1;33m,\u001b[0m\u001b[1;33m\u001b[0m\u001b[0m\n\u001b[1;32m-> 5331\u001b[1;33m                          suffixes=(lsuffix, rsuffix), sort=sort)\n\u001b[0m\u001b[0;32m   5332\u001b[0m         \u001b[1;32melse\u001b[0m\u001b[1;33m:\u001b[0m\u001b[1;33m\u001b[0m\u001b[0m\n\u001b[0;32m   5333\u001b[0m             \u001b[1;32mif\u001b[0m \u001b[0mon\u001b[0m \u001b[1;32mis\u001b[0m \u001b[1;32mnot\u001b[0m \u001b[1;32mNone\u001b[0m\u001b[1;33m:\u001b[0m\u001b[1;33m\u001b[0m\u001b[0m\n",
      "\u001b[1;32m~\\Anaconda3\\lib\\site-packages\\pandas\\core\\reshape\\merge.py\u001b[0m in \u001b[0;36mmerge\u001b[1;34m(left, right, how, on, left_on, right_on, left_index, right_index, sort, suffixes, copy, indicator, validate)\u001b[0m\n\u001b[0;32m     56\u001b[0m                          \u001b[0mcopy\u001b[0m\u001b[1;33m=\u001b[0m\u001b[0mcopy\u001b[0m\u001b[1;33m,\u001b[0m \u001b[0mindicator\u001b[0m\u001b[1;33m=\u001b[0m\u001b[0mindicator\u001b[0m\u001b[1;33m,\u001b[0m\u001b[1;33m\u001b[0m\u001b[0m\n\u001b[0;32m     57\u001b[0m                          validate=validate)\n\u001b[1;32m---> 58\u001b[1;33m     \u001b[1;32mreturn\u001b[0m \u001b[0mop\u001b[0m\u001b[1;33m.\u001b[0m\u001b[0mget_result\u001b[0m\u001b[1;33m(\u001b[0m\u001b[1;33m)\u001b[0m\u001b[1;33m\u001b[0m\u001b[0m\n\u001b[0m\u001b[0;32m     59\u001b[0m \u001b[1;33m\u001b[0m\u001b[0m\n\u001b[0;32m     60\u001b[0m \u001b[1;33m\u001b[0m\u001b[0m\n",
      "\u001b[1;32m~\\Anaconda3\\lib\\site-packages\\pandas\\core\\reshape\\merge.py\u001b[0m in \u001b[0;36mget_result\u001b[1;34m(self)\u001b[0m\n\u001b[0;32m    580\u001b[0m                 self.left, self.right)\n\u001b[0;32m    581\u001b[0m \u001b[1;33m\u001b[0m\u001b[0m\n\u001b[1;32m--> 582\u001b[1;33m         \u001b[0mjoin_index\u001b[0m\u001b[1;33m,\u001b[0m \u001b[0mleft_indexer\u001b[0m\u001b[1;33m,\u001b[0m \u001b[0mright_indexer\u001b[0m \u001b[1;33m=\u001b[0m \u001b[0mself\u001b[0m\u001b[1;33m.\u001b[0m\u001b[0m_get_join_info\u001b[0m\u001b[1;33m(\u001b[0m\u001b[1;33m)\u001b[0m\u001b[1;33m\u001b[0m\u001b[0m\n\u001b[0m\u001b[0;32m    583\u001b[0m \u001b[1;33m\u001b[0m\u001b[0m\n\u001b[0;32m    584\u001b[0m         \u001b[0mldata\u001b[0m\u001b[1;33m,\u001b[0m \u001b[0mrdata\u001b[0m \u001b[1;33m=\u001b[0m \u001b[0mself\u001b[0m\u001b[1;33m.\u001b[0m\u001b[0mleft\u001b[0m\u001b[1;33m.\u001b[0m\u001b[0m_data\u001b[0m\u001b[1;33m,\u001b[0m \u001b[0mself\u001b[0m\u001b[1;33m.\u001b[0m\u001b[0mright\u001b[0m\u001b[1;33m.\u001b[0m\u001b[0m_data\u001b[0m\u001b[1;33m\u001b[0m\u001b[0m\n",
      "\u001b[1;32m~\\Anaconda3\\lib\\site-packages\\pandas\\core\\reshape\\merge.py\u001b[0m in \u001b[0;36m_get_join_info\u001b[1;34m(self)\u001b[0m\n\u001b[0;32m    734\u001b[0m             \u001b[0mjoin_index\u001b[0m\u001b[1;33m,\u001b[0m \u001b[0mleft_indexer\u001b[0m\u001b[1;33m,\u001b[0m \u001b[0mright_indexer\u001b[0m \u001b[1;33m=\u001b[0m\u001b[0;31m \u001b[0m\u001b[0;31m\\\u001b[0m\u001b[1;33m\u001b[0m\u001b[0m\n\u001b[0;32m    735\u001b[0m                 left_ax.join(right_ax, how=self.how, return_indexers=True,\n\u001b[1;32m--> 736\u001b[1;33m                              sort=self.sort)\n\u001b[0m\u001b[0;32m    737\u001b[0m         \u001b[1;32melif\u001b[0m \u001b[0mself\u001b[0m\u001b[1;33m.\u001b[0m\u001b[0mright_index\u001b[0m \u001b[1;32mand\u001b[0m \u001b[0mself\u001b[0m\u001b[1;33m.\u001b[0m\u001b[0mhow\u001b[0m \u001b[1;33m==\u001b[0m \u001b[1;34m'left'\u001b[0m\u001b[1;33m:\u001b[0m\u001b[1;33m\u001b[0m\u001b[0m\n\u001b[0;32m    738\u001b[0m             \u001b[0mjoin_index\u001b[0m\u001b[1;33m,\u001b[0m \u001b[0mleft_indexer\u001b[0m\u001b[1;33m,\u001b[0m \u001b[0mright_indexer\u001b[0m \u001b[1;33m=\u001b[0m\u001b[0;31m \u001b[0m\u001b[0;31m\\\u001b[0m\u001b[1;33m\u001b[0m\u001b[0m\n",
      "\u001b[1;32m~\\Anaconda3\\lib\\site-packages\\pandas\\core\\indexes\\range.py\u001b[0m in \u001b[0;36mjoin\u001b[1;34m(self, other, how, level, return_indexers, sort)\u001b[0m\n\u001b[0;32m    462\u001b[0m \u001b[1;33m\u001b[0m\u001b[0m\n\u001b[0;32m    463\u001b[0m         return super(RangeIndex, self).join(other, how, level, return_indexers,\n\u001b[1;32m--> 464\u001b[1;33m                                             sort)\n\u001b[0m\u001b[0;32m    465\u001b[0m \u001b[1;33m\u001b[0m\u001b[0m\n\u001b[0;32m    466\u001b[0m     \u001b[1;32mdef\u001b[0m \u001b[0m_concat_same_dtype\u001b[0m\u001b[1;33m(\u001b[0m\u001b[0mself\u001b[0m\u001b[1;33m,\u001b[0m \u001b[0mindexes\u001b[0m\u001b[1;33m,\u001b[0m \u001b[0mname\u001b[0m\u001b[1;33m)\u001b[0m\u001b[1;33m:\u001b[0m\u001b[1;33m\u001b[0m\u001b[0m\n",
      "\u001b[1;32m~\\Anaconda3\\lib\\site-packages\\pandas\\core\\indexes\\base.py\u001b[0m in \u001b[0;36mjoin\u001b[1;34m(self, other, how, level, return_indexers, sort)\u001b[0m\n\u001b[0;32m   3101\u001b[0m             \u001b[1;32melse\u001b[0m\u001b[1;33m:\u001b[0m\u001b[1;33m\u001b[0m\u001b[0m\n\u001b[0;32m   3102\u001b[0m                 return self._join_multi(other, how=how,\n\u001b[1;32m-> 3103\u001b[1;33m                                         return_indexers=return_indexers)\n\u001b[0m\u001b[0;32m   3104\u001b[0m \u001b[1;33m\u001b[0m\u001b[0m\n\u001b[0;32m   3105\u001b[0m         \u001b[1;31m# join on the level\u001b[0m\u001b[1;33m\u001b[0m\u001b[1;33m\u001b[0m\u001b[0m\n",
      "\u001b[1;32m~\\Anaconda3\\lib\\site-packages\\pandas\\core\\indexes\\base.py\u001b[0m in \u001b[0;36m_join_multi\u001b[1;34m(self, other, how, return_indexers)\u001b[0m\n\u001b[0;32m   3196\u001b[0m         \u001b[1;31m# need at least 1 in common, but not more than 1\u001b[0m\u001b[1;33m\u001b[0m\u001b[1;33m\u001b[0m\u001b[0m\n\u001b[0;32m   3197\u001b[0m         \u001b[1;32mif\u001b[0m \u001b[1;32mnot\u001b[0m \u001b[0mlen\u001b[0m\u001b[1;33m(\u001b[0m\u001b[0moverlap\u001b[0m\u001b[1;33m)\u001b[0m\u001b[1;33m:\u001b[0m\u001b[1;33m\u001b[0m\u001b[0m\n\u001b[1;32m-> 3198\u001b[1;33m             raise ValueError(\"cannot join with no level specified and no \"\n\u001b[0m\u001b[0;32m   3199\u001b[0m                              \"overlapping names\")\n\u001b[0;32m   3200\u001b[0m         \u001b[1;32mif\u001b[0m \u001b[0mlen\u001b[0m\u001b[1;33m(\u001b[0m\u001b[0moverlap\u001b[0m\u001b[1;33m)\u001b[0m \u001b[1;33m>\u001b[0m \u001b[1;36m1\u001b[0m\u001b[1;33m:\u001b[0m\u001b[1;33m\u001b[0m\u001b[0m\n",
      "\u001b[1;31mValueError\u001b[0m: cannot join with no level specified and no overlapping names"
     ]
    }
   ],
   "source": [
    "submission = test_ids.join(df_preds[\"unit_sales\"], how=\"left\").fillna(0)\n",
    "submission[\"unit_sales\"] = np.clip(np.expm1(submission[\"unit_sales\"]), 0, 1000)\n",
    "submission.to_csv('lstm.csv', float_format='%.4f', index=None)"
   ]
  },
  {
   "cell_type": "markdown",
   "metadata": {},
   "source": [
    "## CNN"
   ]
  },
  {
   "cell_type": "code",
   "execution_count": 41,
   "metadata": {},
   "outputs": [],
   "source": [
    "from numpy import array\n",
    "from keras.models import Sequential\n",
    "from keras.layers import Dense\n",
    "from keras.layers import Flatten\n",
    "from keras.layers.convolutional import Conv1D\n",
    "from keras.layers.convolutional import MaxPooling1D"
   ]
  },
  {
   "cell_type": "code",
   "execution_count": 42,
   "metadata": {},
   "outputs": [],
   "source": [
    "X=X_train"
   ]
  },
  {
   "cell_type": "code",
   "execution_count": 43,
   "metadata": {},
   "outputs": [],
   "source": [
    "X_test1=X_test\n",
    "X_val1=X_val"
   ]
  },
  {
   "cell_type": "code",
   "execution_count": 44,
   "metadata": {},
   "outputs": [],
   "source": [
    "X = X.reshape((X.shape[0], X.shape[2],1 ))\n",
    "X_test1 = X_test1.reshape((X_test1.shape[0], X_test1.shape[2], 1))\n",
    "X_val1 = X_val1.reshape((X_val1.shape[0], X_val1.shape[2], 1))"
   ]
  },
  {
   "cell_type": "code",
   "execution_count": 45,
   "metadata": {
    "scrolled": false
   },
   "outputs": [],
   "source": [
    "#create model\n",
    "model1 = Sequential()\n",
    "#add model layers\n",
    "model1.add(Conv1D(64, kernel_size=3, activation='relu', input_shape=(X.shape[1],X.shape[2])))\n",
    "model1.add(MaxPooling1D(pool_size=1))\n",
    "model1.add(Flatten())\n",
    "model1.add(Dense(50, activation='relu'))\n",
    "model1.add(Dense(1))"
   ]
  },
  {
   "cell_type": "code",
   "execution_count": 46,
   "metadata": {},
   "outputs": [
    {
     "name": "stdout",
     "output_type": "stream",
     "text": [
      "_________________________________________________________________\n",
      "Layer (type)                 Output Shape              Param #   \n",
      "=================================================================\n",
      "conv1d_1 (Conv1D)            (None, 1, 64)             256       \n",
      "_________________________________________________________________\n",
      "max_pooling1d_1 (MaxPooling1 (None, 1, 64)             0         \n",
      "_________________________________________________________________\n",
      "flatten_1 (Flatten)          (None, 64)                0         \n",
      "_________________________________________________________________\n",
      "dense_15 (Dense)             (None, 50)                3250      \n",
      "_________________________________________________________________\n",
      "dense_16 (Dense)             (None, 1)                 51        \n",
      "=================================================================\n",
      "Total params: 3,557\n",
      "Trainable params: 3,557\n",
      "Non-trainable params: 0\n",
      "_________________________________________________________________\n"
     ]
    }
   ],
   "source": [
    "model1.compile(loss = 'mse', optimizer='adam', metrics=['accuracy','mse','mae',rmse])\n",
    "model1.summary()"
   ]
  },
  {
   "cell_type": "code",
   "execution_count": 47,
   "metadata": {},
   "outputs": [],
   "source": [
    "y = y_train[:, 1]\n",
    "N_EPOCHS=5"
   ]
  },
  {
   "cell_type": "code",
   "execution_count": 48,
   "metadata": {
    "scrolled": true
   },
   "outputs": [
    {
     "name": "stdout",
     "output_type": "stream",
     "text": [
      "Train on 167515 samples, validate on 167515 samples\n",
      "Epoch 1/5\n",
      " - 2s - loss: 288.0188 - acc: 0.1413 - mean_squared_error: 288.0188 - mean_absolute_error: 4.4989 - rmse: 4.4989 - val_loss: 234.1692 - val_acc: 0.2509 - val_mean_squared_error: 234.1692 - val_mean_absolute_error: 3.9807 - val_rmse: 3.9807\n",
      "Epoch 2/5\n",
      " - 1s - loss: 262.9642 - acc: 0.1643 - mean_squared_error: 262.9642 - mean_absolute_error: 4.1151 - rmse: 4.1151 - val_loss: 228.1494 - val_acc: 0.0689 - val_mean_squared_error: 228.1494 - val_mean_absolute_error: 4.6039 - val_rmse: 4.6039\n",
      "Epoch 3/5\n",
      " - 1s - loss: 248.6807 - acc: 0.1364 - mean_squared_error: 248.6807 - mean_absolute_error: 4.2613 - rmse: 4.2613 - val_loss: 217.0044 - val_acc: 0.0864 - val_mean_squared_error: 217.0044 - val_mean_absolute_error: 4.2685 - val_rmse: 4.2685\n",
      "Epoch 4/5\n",
      " - 1s - loss: 228.9718 - acc: 0.1748 - mean_squared_error: 228.9718 - mean_absolute_error: 4.1473 - rmse: 4.1473 - val_loss: 213.9961 - val_acc: 0.1059 - val_mean_squared_error: 213.9961 - val_mean_absolute_error: 4.0407 - val_rmse: 4.0407\n",
      "Epoch 5/5\n",
      " - 1s - loss: 242.7457 - acc: 0.2186 - mean_squared_error: 242.7457 - mean_absolute_error: 3.9638 - rmse: 3.9638 - val_loss: 216.7402 - val_acc: 0.0815 - val_mean_squared_error: 216.7402 - val_mean_absolute_error: 4.3633 - val_rmse: 4.3633\n"
     ]
    },
    {
     "data": {
      "text/plain": [
       "<keras.callbacks.History at 0x71a6f9eb8>"
      ]
     },
     "execution_count": 48,
     "metadata": {},
     "output_type": "execute_result"
    }
   ],
   "source": [
    "xv = X_val1\n",
    "yv = y_val[:, 1]\n",
    "model1.fit(X, y,batch_size = 512, epochs = N_EPOCHS, verbose=2 , validation_data=(xv, yv))"
   ]
  },
  {
   "cell_type": "code",
   "execution_count": 49,
   "metadata": {},
   "outputs": [
    {
     "ename": "NameError",
     "evalue": "name 'xv11' is not defined",
     "output_type": "error",
     "traceback": [
      "\u001b[1;31m---------------------------------------------------------------------------\u001b[0m",
      "\u001b[1;31mNameError\u001b[0m                                 Traceback (most recent call last)",
      "\u001b[1;32m<ipython-input-49-53147e0a76e5>\u001b[0m in \u001b[0;36m<module>\u001b[1;34m()\u001b[0m\n\u001b[0;32m      1\u001b[0m \u001b[1;31m# Score trained model.\u001b[0m\u001b[1;33m\u001b[0m\u001b[1;33m\u001b[0m\u001b[0m\n\u001b[1;32m----> 2\u001b[1;33m \u001b[0mscores11\u001b[0m \u001b[1;33m=\u001b[0m \u001b[0mmodel1\u001b[0m\u001b[1;33m.\u001b[0m\u001b[0mevaluate\u001b[0m\u001b[1;33m(\u001b[0m\u001b[0mxv11\u001b[0m\u001b[1;33m,\u001b[0m \u001b[0myv11\u001b[0m\u001b[1;33m,\u001b[0m \u001b[0mverbose\u001b[0m\u001b[1;33m=\u001b[0m\u001b[1;36m1\u001b[0m\u001b[1;33m)\u001b[0m\u001b[1;33m\u001b[0m\u001b[0m\n\u001b[0m\u001b[0;32m      3\u001b[0m \u001b[0mprint\u001b[0m\u001b[1;33m(\u001b[0m\u001b[1;34m'Test loss:'\u001b[0m\u001b[1;33m,\u001b[0m \u001b[0mscores11\u001b[0m\u001b[1;33m[\u001b[0m\u001b[1;36m0\u001b[0m\u001b[1;33m]\u001b[0m\u001b[1;33m)\u001b[0m\u001b[1;33m\u001b[0m\u001b[0m\n\u001b[0;32m      4\u001b[0m \u001b[0mprint\u001b[0m\u001b[1;33m(\u001b[0m\u001b[1;34m'Test accuracy:'\u001b[0m\u001b[1;33m,\u001b[0m \u001b[0mscores11\u001b[0m\u001b[1;33m[\u001b[0m\u001b[1;36m1\u001b[0m\u001b[1;33m]\u001b[0m\u001b[1;33m)\u001b[0m\u001b[1;33m\u001b[0m\u001b[0m\n",
      "\u001b[1;31mNameError\u001b[0m: name 'xv11' is not defined"
     ]
    }
   ],
   "source": [
    "# Score trained model.\n",
    "scores11 = model1.evaluate(xv11, yv11, verbose=1)\n",
    "print('Test loss:', scores11[0])\n",
    "print('Test accuracy:', scores11[1])"
   ]
  },
  {
   "cell_type": "code",
   "execution_count": 50,
   "metadata": {},
   "outputs": [
    {
     "name": "stdout",
     "output_type": "stream",
     "text": [
      "[[ 1.5083506]\n",
      " [ 1.6743643]\n",
      " [ 2.3245206]\n",
      " ...\n",
      " [ 1.5834916]\n",
      " [32.809406 ]\n",
      " [ 3.0301013]]\n",
      "First prediction: [1.5083506]\n"
     ]
    }
   ],
   "source": [
    "yhat = model1.predict(X_test1, verbose=0)\n",
    "print(yhat)\n",
    "print('First prediction:', yhat[0])"
   ]
  },
  {
   "cell_type": "code",
   "execution_count": null,
   "metadata": {},
   "outputs": [],
   "source": []
  },
  {
   "cell_type": "markdown",
   "metadata": {},
   "source": [
    "##  Neural Networks(NN)"
   ]
  },
  {
   "cell_type": "code",
   "execution_count": 51,
   "metadata": {},
   "outputs": [],
   "source": [
    "X=X_train"
   ]
  },
  {
   "cell_type": "code",
   "execution_count": 52,
   "metadata": {},
   "outputs": [],
   "source": [
    "X_test1=X_test\n",
    "X_val1=X_val"
   ]
  },
  {
   "cell_type": "code",
   "execution_count": 53,
   "metadata": {},
   "outputs": [],
   "source": [
    "X = X.reshape((X.shape[0], X.shape[2] ))\n",
    "X_test1 = X_test1.reshape((X_test1.shape[0], X_test1.shape[2]))\n",
    "X_val1 = X_val1.reshape((X_val1.shape[0], X_val1.shape[2]))"
   ]
  },
  {
   "cell_type": "code",
   "execution_count": 54,
   "metadata": {},
   "outputs": [
    {
     "name": "stdout",
     "output_type": "stream",
     "text": [
      "_________________________________________________________________\n",
      "Layer (type)                 Output Shape              Param #   \n",
      "=================================================================\n",
      "dense_17 (Dense)             (None, 64)                256       \n",
      "_________________________________________________________________\n",
      "dropout_15 (Dropout)         (None, 64)                0         \n",
      "_________________________________________________________________\n",
      "dense_18 (Dense)             (None, 16)                1040      \n",
      "_________________________________________________________________\n",
      "dropout_16 (Dropout)         (None, 16)                0         \n",
      "_________________________________________________________________\n",
      "dense_19 (Dense)             (None, 1)                 17        \n",
      "=================================================================\n",
      "Total params: 1,313\n",
      "Trainable params: 1,313\n",
      "Non-trainable params: 0\n",
      "_________________________________________________________________\n"
     ]
    }
   ],
   "source": [
    "from keras.models import Sequential\n",
    "from keras.layers.core import Dense, Dropout, Activation\n",
    "\n",
    "# Building the model\n",
    "model3 = Sequential()\n",
    "model3.add(Dense(64, activation='relu', input_shape=(X.shape[1],)))\n",
    "model3.add(Dropout(.2))\n",
    "model3.add(Dense(16, activation='relu'))\n",
    "model3.add(Dropout(.1))\n",
    "model3.add(Dense(1))\n",
    "\n",
    "# Compiling the model\n",
    "model3.compile(loss = 'mse', optimizer='adam', metrics=[rmse,'mse']) #mse: mean_square_error\n",
    "model3.summary()"
   ]
  },
  {
   "cell_type": "code",
   "execution_count": 55,
   "metadata": {},
   "outputs": [],
   "source": [
    "features = np.array(X_train)\n",
    "y = y_train[:, 1]\n",
    "xv = X_val1\n",
    "yv = y_val[:, 1]\n",
    "targets = np.array(y.reshape(y.shape[0],1))\n",
    "features_validation= np.array(xv)\n",
    "targets_validation = np.array(yv.reshape(yv.shape[0],1))\n",
    "\n",
    "#print(features[:10])\n",
    "#print(targets[:10])"
   ]
  },
  {
   "cell_type": "code",
   "execution_count": 58,
   "metadata": {},
   "outputs": [
    {
     "name": "stdout",
     "output_type": "stream",
     "text": [
      "Epoch 1/25\n",
      " - 2s - loss: 170.0537 - rmse: 4.1866 - mean_squared_error: 170.0537\n",
      "Epoch 2/25\n",
      " - 2s - loss: 170.5734 - rmse: 4.1839 - mean_squared_error: 170.5734\n",
      "Epoch 3/25\n",
      " - 2s - loss: 169.5329 - rmse: 4.1662 - mean_squared_error: 169.5329\n",
      "Epoch 4/25\n",
      " - 2s - loss: 161.1689 - rmse: 4.1470 - mean_squared_error: 161.1689\n",
      "Epoch 5/25\n",
      " - 2s - loss: 164.9342 - rmse: 4.1990 - mean_squared_error: 164.9342\n",
      "Epoch 6/25\n",
      " - 2s - loss: 178.7195 - rmse: 4.1556 - mean_squared_error: 178.7195\n",
      "Epoch 7/25\n",
      " - 2s - loss: 189.5401 - rmse: 4.1909 - mean_squared_error: 189.5401\n",
      "Epoch 8/25\n",
      " - 2s - loss: 174.6895 - rmse: 4.1847 - mean_squared_error: 174.6895\n",
      "Epoch 9/25\n",
      " - 2s - loss: 167.8292 - rmse: 4.1540 - mean_squared_error: 167.8292\n",
      "Epoch 10/25\n",
      " - 2s - loss: 167.0400 - rmse: 4.1825 - mean_squared_error: 167.0400\n",
      "Epoch 11/25\n",
      " - 2s - loss: 170.3375 - rmse: 4.1916 - mean_squared_error: 170.3375\n",
      "Epoch 12/25\n",
      " - 2s - loss: 181.0977 - rmse: 4.1789 - mean_squared_error: 181.0977\n",
      "Epoch 13/25\n",
      " - 2s - loss: 167.1222 - rmse: 4.1526 - mean_squared_error: 167.1222\n",
      "Epoch 14/25\n",
      " - 2s - loss: 169.3782 - rmse: 4.1721 - mean_squared_error: 169.3782\n",
      "Epoch 15/25\n",
      " - 3s - loss: 163.5341 - rmse: 4.1486 - mean_squared_error: 163.5341\n",
      "Epoch 16/25\n",
      " - 3s - loss: 165.0579 - rmse: 4.1484 - mean_squared_error: 165.0579\n",
      "Epoch 17/25\n",
      " - 3s - loss: 158.2939 - rmse: 4.1018 - mean_squared_error: 158.2939\n",
      "Epoch 18/25\n",
      " - 2s - loss: 185.8442 - rmse: 4.2221 - mean_squared_error: 185.8442\n",
      "Epoch 19/25\n",
      " - 3s - loss: 186.8215 - rmse: 4.1831 - mean_squared_error: 186.8215\n",
      "Epoch 20/25\n",
      " - 3s - loss: 172.6842 - rmse: 4.1663 - mean_squared_error: 172.6842\n",
      "Epoch 21/25\n",
      " - 3s - loss: 170.7902 - rmse: 4.1822 - mean_squared_error: 170.7902\n",
      "Epoch 22/25\n",
      " - 2s - loss: 168.6478 - rmse: 4.1725 - mean_squared_error: 168.6478\n",
      "Epoch 23/25\n",
      " - 2s - loss: 171.4311 - rmse: 4.1680 - mean_squared_error: 171.4311\n",
      "Epoch 24/25\n",
      " - 2s - loss: 164.8663 - rmse: 4.1470 - mean_squared_error: 164.8663\n",
      "Epoch 25/25\n",
      " - 2s - loss: 160.2680 - rmse: 4.1354 - mean_squared_error: 160.2680\n",
      "<keras.callbacks.History object at 0x000000072547BE48>\n",
      "Step :  0 / 100\n",
      "167515/167515 [==============================] - 3s 18us/step\n",
      "Training MSE: 3.809027071292054\n",
      "167515/167515 [==============================] - 3s 17us/step\n",
      "Validation MSE: 3.809027071292054 \n",
      "\n",
      "Epoch 1/25\n",
      " - 3s - loss: 167.2197 - rmse: 4.1407 - mean_squared_error: 167.2197\n",
      "Epoch 2/25\n",
      " - 2s - loss: 165.1171 - rmse: 4.1265 - mean_squared_error: 165.1171\n",
      "Epoch 3/25\n",
      " - 2s - loss: 167.3025 - rmse: 4.1425 - mean_squared_error: 167.3025\n",
      "Epoch 4/25\n",
      " - 2s - loss: 162.3668 - rmse: 4.1255 - mean_squared_error: 162.3668\n",
      "Epoch 5/25\n",
      " - 2s - loss: 167.5002 - rmse: 4.1607 - mean_squared_error: 167.5002\n",
      "Epoch 6/25\n",
      " - 2s - loss: 174.3294 - rmse: 4.1290 - mean_squared_error: 174.3294\n",
      "Epoch 7/25\n",
      " - 2s - loss: 160.9812 - rmse: 4.1269 - mean_squared_error: 160.9812\n",
      "Epoch 8/25\n",
      " - 2s - loss: 166.5506 - rmse: 4.1286 - mean_squared_error: 166.5506\n",
      "Epoch 9/25\n",
      " - 2s - loss: 173.1604 - rmse: 4.1358 - mean_squared_error: 173.1604\n",
      "Epoch 10/25\n",
      " - 3s - loss: 164.0359 - rmse: 4.1300 - mean_squared_error: 164.0359\n",
      "Epoch 11/25\n",
      " - 2s - loss: 157.4082 - rmse: 4.1283 - mean_squared_error: 157.4082\n",
      "Epoch 12/25\n",
      " - 2s - loss: 161.5650 - rmse: 4.1273 - mean_squared_error: 161.5650\n",
      "Epoch 13/25\n",
      " - 3s - loss: 182.7847 - rmse: 4.1110 - mean_squared_error: 182.7847\n",
      "Epoch 14/25\n",
      " - 2s - loss: 165.7735 - rmse: 4.1057 - mean_squared_error: 165.7735\n",
      "Epoch 15/25\n",
      " - 2s - loss: 170.9389 - rmse: 4.1557 - mean_squared_error: 170.9389\n",
      "Epoch 16/25\n",
      " - 2s - loss: 161.9004 - rmse: 4.1167 - mean_squared_error: 161.9004\n",
      "Epoch 17/25\n",
      " - 2s - loss: 186.6328 - rmse: 4.1616 - mean_squared_error: 186.6328\n",
      "Epoch 18/25\n",
      " - 2s - loss: 161.0218 - rmse: 4.1394 - mean_squared_error: 161.0218\n",
      "Epoch 19/25\n",
      " - 2s - loss: 166.0795 - rmse: 4.1415 - mean_squared_error: 166.0795\n",
      "Epoch 20/25\n",
      " - 3s - loss: 156.7684 - rmse: 4.1147 - mean_squared_error: 156.7684\n",
      "Epoch 21/25\n",
      " - 2s - loss: 164.4965 - rmse: 4.1224 - mean_squared_error: 164.4965\n",
      "Epoch 22/25\n",
      " - 2s - loss: 153.9155 - rmse: 4.0962 - mean_squared_error: 153.9155\n",
      "Epoch 23/25\n",
      " - 2s - loss: 166.6958 - rmse: 4.1043 - mean_squared_error: 166.6958\n",
      "Epoch 24/25\n",
      " - 3s - loss: 157.1901 - rmse: 4.1010 - mean_squared_error: 157.1901\n",
      "Epoch 25/25\n",
      " - 3s - loss: 167.2890 - rmse: 4.1036 - mean_squared_error: 167.2890\n",
      "<keras.callbacks.History object at 0x000000072547B6A0>\n",
      "Step :  25 / 100\n",
      "167515/167515 [==============================] - 4s 22us/step\n",
      "Training MSE: 3.831703223415842\n",
      "167515/167515 [==============================] - 3s 19us/step\n",
      "Validation MSE: 3.831703223415842 \n",
      "\n",
      "Epoch 1/25\n",
      " - 3s - loss: 171.2289 - rmse: 4.1172 - mean_squared_error: 171.2289\n",
      "Epoch 2/25\n",
      " - 3s - loss: 158.7311 - rmse: 4.0809 - mean_squared_error: 158.7311\n",
      "Epoch 3/25\n",
      " - 3s - loss: 167.6830 - rmse: 4.0980 - mean_squared_error: 167.6830\n",
      "Epoch 4/25\n",
      " - 3s - loss: 175.5505 - rmse: 4.1273 - mean_squared_error: 175.5505\n",
      "Epoch 5/25\n",
      " - 3s - loss: 157.3379 - rmse: 4.0889 - mean_squared_error: 157.3379\n",
      "Epoch 6/25\n",
      " - 3s - loss: 167.4338 - rmse: 4.0973 - mean_squared_error: 167.4338\n",
      "Epoch 7/25\n",
      " - 2s - loss: 155.5563 - rmse: 4.0629 - mean_squared_error: 155.5563\n",
      "Epoch 8/25\n",
      " - 2s - loss: 165.3454 - rmse: 4.0956 - mean_squared_error: 165.3454\n",
      "Epoch 9/25\n",
      " - 3s - loss: 158.4673 - rmse: 4.0973 - mean_squared_error: 158.4673\n",
      "Epoch 10/25\n",
      " - 2s - loss: 183.3963 - rmse: 4.1215 - mean_squared_error: 183.3963\n",
      "Epoch 11/25\n",
      " - 3s - loss: 160.2236 - rmse: 4.0978 - mean_squared_error: 160.2236\n",
      "Epoch 12/25\n",
      " - 2s - loss: 161.6533 - rmse: 4.1205 - mean_squared_error: 161.6533\n",
      "Epoch 13/25\n",
      " - 2s - loss: 181.2187 - rmse: 4.1389 - mean_squared_error: 181.2187\n",
      "Epoch 14/25\n",
      " - 2s - loss: 156.9910 - rmse: 4.0904 - mean_squared_error: 156.9910\n",
      "Epoch 15/25\n",
      " - 2s - loss: 177.8368 - rmse: 4.1167 - mean_squared_error: 177.8368\n",
      "Epoch 16/25\n",
      " - 2s - loss: 157.4524 - rmse: 4.0926 - mean_squared_error: 157.4524\n",
      "Epoch 17/25\n",
      " - 3s - loss: 163.3840 - rmse: 4.0977 - mean_squared_error: 163.3840\n",
      "Epoch 18/25\n",
      " - 2s - loss: 160.6297 - rmse: 4.0810 - mean_squared_error: 160.6297\n",
      "Epoch 19/25\n",
      " - 2s - loss: 171.5230 - rmse: 4.1501 - mean_squared_error: 171.5230\n",
      "Epoch 20/25\n",
      " - 3s - loss: 163.1165 - rmse: 4.1254 - mean_squared_error: 163.1165\n",
      "Epoch 21/25\n",
      " - 3s - loss: 188.9200 - rmse: 4.1447 - mean_squared_error: 188.9200\n",
      "Epoch 22/25\n",
      " - 3s - loss: 166.3991 - rmse: 4.1283 - mean_squared_error: 166.3991\n",
      "Epoch 23/25\n",
      " - 3s - loss: 162.5911 - rmse: 4.1005 - mean_squared_error: 162.5911\n",
      "Epoch 24/25\n",
      " - 3s - loss: 164.7840 - rmse: 4.1249 - mean_squared_error: 164.7840\n",
      "Epoch 25/25\n",
      " - 3s - loss: 170.8786 - rmse: 4.1522 - mean_squared_error: 170.8786\n",
      "<keras.callbacks.History object at 0x000000072545CBE0>\n",
      "Step :  50 / 100\n",
      "167515/167515 [==============================] - 4s 22us/step\n",
      "Training MSE: 3.7253448583338007\n",
      "167515/167515 [==============================] - 4s 22us/step\n",
      "Validation MSE: 3.7253448583338007 \n",
      "\n",
      "Epoch 1/25\n",
      " - 3s - loss: 157.6691 - rmse: 4.1016 - mean_squared_error: 157.6691\n",
      "Epoch 2/25\n",
      " - 3s - loss: 162.9495 - rmse: 4.1116 - mean_squared_error: 162.9495\n",
      "Epoch 3/25\n",
      " - 3s - loss: 158.3962 - rmse: 4.0966 - mean_squared_error: 158.3962\n",
      "Epoch 4/25\n",
      " - 3s - loss: 173.9882 - rmse: 4.1320 - mean_squared_error: 173.9882\n",
      "Epoch 5/25\n",
      " - 3s - loss: 162.7264 - rmse: 4.1370 - mean_squared_error: 162.7264\n",
      "Epoch 6/25\n",
      " - 3s - loss: 157.9525 - rmse: 4.1090 - mean_squared_error: 157.9525\n",
      "Epoch 7/25\n",
      " - 3s - loss: 167.2983 - rmse: 4.1191 - mean_squared_error: 167.2983\n",
      "Epoch 8/25\n",
      " - 3s - loss: 161.7904 - rmse: 4.1292 - mean_squared_error: 161.7904\n",
      "Epoch 9/25\n",
      " - 3s - loss: 174.4219 - rmse: 4.1200 - mean_squared_error: 174.4219\n",
      "Epoch 10/25\n",
      " - 2s - loss: 160.8932 - rmse: 4.1283 - mean_squared_error: 160.8932\n",
      "Epoch 11/25\n",
      " - 3s - loss: 194.8826 - rmse: 4.1513 - mean_squared_error: 194.8826\n",
      "Epoch 12/25\n",
      " - 3s - loss: 159.1659 - rmse: 4.0976 - mean_squared_error: 159.1659\n",
      "Epoch 13/25\n",
      " - 2s - loss: 166.7922 - rmse: 4.1354 - mean_squared_error: 166.7922\n",
      "Epoch 14/25\n",
      " - 2s - loss: 165.5172 - rmse: 4.1203 - mean_squared_error: 165.5172\n",
      "Epoch 15/25\n",
      " - 2s - loss: 167.5671 - rmse: 4.1304 - mean_squared_error: 167.5671\n",
      "Epoch 16/25\n",
      " - 2s - loss: 160.4959 - rmse: 4.1359 - mean_squared_error: 160.4959\n",
      "Epoch 17/25\n",
      " - 3s - loss: 177.0730 - rmse: 4.1346 - mean_squared_error: 177.0730\n"
     ]
    },
    {
     "name": "stdout",
     "output_type": "stream",
     "text": [
      "Epoch 18/25\n",
      " - 3s - loss: 216.3503 - rmse: 4.1290 - mean_squared_error: 216.3503\n",
      "Epoch 19/25\n",
      " - 3s - loss: 177.9663 - rmse: 4.1200 - mean_squared_error: 177.9663\n",
      "Epoch 20/25\n",
      " - 2s - loss: 165.6352 - rmse: 4.0954 - mean_squared_error: 165.6352\n",
      "Epoch 21/25\n",
      " - 2s - loss: 154.8153 - rmse: 4.0796 - mean_squared_error: 154.8153\n",
      "Epoch 22/25\n",
      " - 3s - loss: 202.9507 - rmse: 4.1517 - mean_squared_error: 202.9507\n",
      "Epoch 23/25\n",
      " - 2s - loss: 170.2731 - rmse: 4.1236 - mean_squared_error: 170.2731\n",
      "Epoch 24/25\n",
      " - 2s - loss: 155.4817 - rmse: 4.1015 - mean_squared_error: 155.4817\n",
      "Epoch 25/25\n",
      " - 3s - loss: 167.6919 - rmse: 4.1173 - mean_squared_error: 167.6919\n",
      "<keras.callbacks.History object at 0x000000072547BE48>\n",
      "Step :  75 / 100\n",
      "167515/167515 [==============================] - 3s 18us/step\n",
      "Training MSE: 3.807071408447506\n",
      "167515/167515 [==============================] - 3s 17us/step\n",
      "Validation MSE: 3.807071408447506 \n",
      "\n"
     ]
    }
   ],
   "source": [
    "epochs_tot = 100\n",
    "epochs_step = 25\n",
    "epochs_ratio = int(epochs_tot / epochs_step)\n",
    "hist =np.array([])\n",
    "\n",
    "for i in range(epochs_ratio):\n",
    "    history = model3.fit(X, y, epochs=epochs_step, verbose=2, batch_size=100)\n",
    "    print(history)    \n",
    "          \n",
    "    # Evaluating the model on the training and testing set\n",
    "    print(\"Step : \" , i * epochs_step, \"/\", epochs_tot)\n",
    "    score = model3.evaluate(X, y)\n",
    "    print(\"Training MSE:\", score[1])\n",
    "    score = model3.evaluate(features_validation, targets_validation)\n",
    "    print(\"Validation MSE:\", score[1], \"\\n\")\n",
    "    hist = np.concatenate((hist, np.array(history.history['mean_squared_error'])), axis = 0)"
   ]
  },
  {
   "cell_type": "code",
   "execution_count": null,
   "metadata": {},
   "outputs": [],
   "source": []
  },
  {
   "cell_type": "code",
   "execution_count": 31,
   "metadata": {},
   "outputs": [
    {
     "data": {
      "image/png": "[encoded data removed]",
      "text/plain": [
       "<matplotlib.figure.Figure at 0xddaa8e5f28>"
      ]
     },
     "metadata": {},
     "output_type": "display_data"
    }
   ],
   "source": [
    "import pandas as pd\n",
    "import numpy as np\n",
    "import seaborn as sns\n",
    "import matplotlib\n",
    "import matplotlib.pyplot as plt\n",
    "from pandas.tools.plotting import parallel_coordinates\n",
    "from sklearn import datasets\n",
    "matplotlib.style.use('ggplot')\n",
    "%matplotlib inline\n",
    "\n",
    "\n",
    "pd.set_option('display.max_rows', 10)\n",
    "pd.set_option('display.max_columns', None)\n",
    "\n",
    "#create dataset\n",
    "df =pd.DataFrame({'TEDTalk':['Artificial Neural Networks(ANN)','Convolutional Neural Network (CNN)', 'Long Short-Term Memory Neural Network(LSTM)'],'value': [144.02,175.20,75.22]})\n",
    "\n",
    "sns.set(rc = {'figure.figsize':(8,5),'axes.labelsize': 12})\n",
    "ax = sns.barplot(x=\"value\", y=\"TEDTalk\", data=df,  palette=\"Blues\")\n",
    "ax.set(xlabel='The Mean Squared Error (MSE)', ylabel='')\n",
    "ax.set_title(\"The comparison summary of the results of different forecasting models\",fontsize =14, fontweight='bold')\n",
    "plt.tick_params(axis='both', which='major', labelsize=12)\n",
    "\n",
    "ax.set_xticklabels(['{:0.0f}'.format(x) for x in (ax.get_xticks())])\n",
    "ax.invert_yaxis()\n",
    "\n",
    "#create loop to add percentage on bar\n",
    "for p in ax.patches:\n",
    "    ax.annotate('{:0.0f}'.format(p.get_width()), (p.get_x() + p.get_width(), p.get_y()), xytext=(5, 10), textcoords='offset points')\n",
    "plt.show()"
   ]
  },
  {
   "cell_type": "code",
   "execution_count": 30,
   "metadata": {},
   "outputs": [
    {
     "data": {
      "image/png": "[encoded data removed]",
      "text/plain": [
       "<matplotlib.figure.Figure at 0xddaa8b9358>"
      ]
     },
     "metadata": {},
     "output_type": "display_data"
    }
   ],
   "source": [
    "pd.set_option('display.max_rows', 10)\n",
    "pd.set_option('display.max_columns', None)\n",
    "\n",
    "#create dataset\n",
    "df =pd.DataFrame({'TEDTalk':['Artificial Neural Networks(ANN)','Convolutional Neural Network (CNN)', 'Long Short-Term Memory Neural Network(LSTM)'],'value': [4.07,3.96,3]})\n",
    "\n",
    "sns.set(rc = {'figure.figsize':(8,5),'axes.labelsize': 12})\n",
    "ax = sns.barplot(x=\"value\", y=\"TEDTalk\", data=df,  palette=\"Blues\")\n",
    "ax.set(xlabel='The Root Mean Squared Error (RMSE)', ylabel='')\n",
    "ax.set_title(\"The comparison summary of the results of different forecasting models\",fontsize =14, fontweight='bold')\n",
    "plt.tick_params(axis='both', which='major', labelsize=12)\n",
    "\n",
    "ax.set_xticklabels(['{:0.0f}'.format(x) for x in (ax.get_xticks())])\n",
    "ax.invert_yaxis()\n",
    "\n",
    "#create loop to add percentage on bar\n",
    "for p in ax.patches:\n",
    "    ax.annotate('{:0.0f}'.format(p.get_width()), (p.get_x() + p.get_width(), p.get_y()), xytext=(5, 10), textcoords='offset points')\n",
    "plt.show()"
   ]
  },
  {
   "cell_type": "code",
   "execution_count": null,
   "metadata": {},
   "outputs": [],
   "source": []
  }
 ],
 "metadata": {
  "kernelspec": {
   "display_name": "Python 3",
   "language": "python",
   "name": "python3"
  },
  "language_info": {
   "codemirror_mode": {
    "name": "ipython",
    "version": 3
   },
   "file_extension": ".py",
   "mimetype": "text/x-python",
   "name": "python",
   "nbconvert_exporter": "python",
   "pygments_lexer": "ipython3",
   "version": "3.6.4"
  }
 },
 "nbformat": 4,
 "nbformat_minor": 2
}
